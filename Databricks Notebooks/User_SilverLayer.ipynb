{
 "cells": [
  {
   "cell_type": "markdown",
   "metadata": {
    "application/vnd.databricks.v1+cell": {
     "cellMetadata": {},
     "inputWidgets": {},
     "nuid": "accfdce0-26aa-4464-9e7c-bc93adb39ec5",
     "showTitle": false,
     "title": ""
    }
   },
   "source": [
    "### Incremental Logic and Transformation"
   ]
  },
  {
   "cell_type": "code",
   "execution_count": 0,
   "metadata": {
    "application/vnd.databricks.v1+cell": {
     "cellMetadata": {
      "byteLimit": 2048000,
      "rowLimit": 10000
     },
     "inputWidgets": {},
     "nuid": "ec55ce11-f097-45d2-8a5c-8452253c908c",
     "showTitle": false,
     "title": ""
    }
   },
   "outputs": [],
   "source": [
    "from pyspark.sql import SparkSession\n",
    "from pyspark.sql.functions import *\n",
    "from pyspark.sql.types import *\n",
    "from delta.tables import DeltaTable"
   ]
  },
  {
   "cell_type": "code",
   "execution_count": 0,
   "metadata": {
    "application/vnd.databricks.v1+cell": {
     "cellMetadata": {
      "byteLimit": 2048000,
      "rowLimit": 10000
     },
     "inputWidgets": {},
     "nuid": "5c10fc0a-078a-41df-8ee1-36f89341b079",
     "showTitle": false,
     "title": ""
    }
   },
   "outputs": [],
   "source": [
    "spark = SparkSession.builder.appName(\"Ecomdatapipeline\").getOrCreate()"
   ]
  },
  {
   "cell_type": "code",
   "execution_count": 0,
   "metadata": {
    "application/vnd.databricks.v1+cell": {
     "cellMetadata": {
      "byteLimit": 2048000,
      "rowLimit": 10000
     },
     "inputWidgets": {},
     "nuid": "fa5fa472-5a0a-4cc2-92f0-ef8c44f2d0ee",
     "showTitle": false,
     "title": ""
    }
   },
   "outputs": [],
   "source": [
    "#defining source and target paths\n",
    "users_bronze = \"/mnt/delta/tables/ecom2/bronze/users\"  #source\n",
    "users_silver = \"/mnt/delta/tables/ecom2/silver/users\"  #target"
   ]
  },
  {
   "cell_type": "code",
   "execution_count": 0,
   "metadata": {
    "application/vnd.databricks.v1+cell": {
     "cellMetadata": {
      "byteLimit": 2048000,
      "rowLimit": 10000
     },
     "inputWidgets": {},
     "nuid": "86fc8971-8a8c-482e-8184-9a3c5d0828c0",
     "showTitle": false,
     "title": ""
    }
   },
   "outputs": [],
   "source": [
    "#Defining Source Dataframe\n",
    "user_df = spark.read.format(\"delta\").load(users_bronze)    #source delta table"
   ]
  },
  {
   "cell_type": "code",
   "execution_count": 0,
   "metadata": {
    "application/vnd.databricks.v1+cell": {
     "cellMetadata": {
      "byteLimit": 2048000,
      "rowLimit": 10000
     },
     "inputWidgets": {},
     "nuid": "ac4024bd-3cc4-4825-864a-8e37cda3d450",
     "showTitle": false,
     "title": ""
    }
   },
   "outputs": [],
   "source": [
    "#Transformation\n",
    "\n",
    "#Normalize Country codes to uppercase\n",
    "\n",
    "user_df = user_df.withColumn(\"countryCode\",upper(col(\"countryCode\")))\n",
    "\n",
    "\n",
    "user_df = user_df.withColumn(\"language_full\",expr(\"CASE WHEN language = 'en' then 'English'\" +\n",
    "                    \"WHEN language = 'fr' then 'French'\" + \n",
    "                    \"ELSE 'Others' end\"))\n",
    "\n",
    "user_df = user_df.withColumn(\"gender\",when(col(\"gender\").startswith(\"M\"),\"Male\")\n",
    "                        .when(col(\"gender\").startswith(\"F\"),\"Female\")\n",
    "                        .otherwise(\"Other\"))\n",
    "\n",
    "# Using regexp_replace to clean civilitytile values\n",
    "\n",
    "\n",
    "user_df = user_df.withColumn(\"civilityTitle_clean\",\n",
    "                             regexp_replace(col(\"civilityTitle\"),\"(miss|mrs)\",\"Ms\"))\n",
    "\n",
    "\n",
    "# Derive new column \n",
    "\n",
    "user_df = user_df.withColumn(\"yearssincelastlogin\",col(\"daysSinceLastLogin\")/365)\n",
    "\n",
    "\n",
    "# Calculate age of account in years and categorize into 'account_age_group'\n",
    "\n",
    "\n",
    "user_df = user_df.withColumn(\"account_age_years\",round(col(\"seniority\")/365,2))\\\n",
    "                 .withColumn(\"account_age_group\",\n",
    "                             when(col(\"account_age_years\")<1,\"New\")\n",
    "                             .when((col(\"account_age_years\")>=1) & (col(\"account_age_years\")< 3),\"Intermediate\")\n",
    "                             .otherwise(\"Experienced\"))\n",
    "                 \n",
    "# Add a column with the current year for comparison\n",
    "\n",
    "user_df = user_df.withColumn(\"current_year\",year(current_date()))\n",
    "\n",
    "\n",
    "#Combine strings to form a unique user descriptor\n",
    "\n",
    "\n",
    "user_df = user_df.withColumn(\"user_descriptor\",\n",
    "                            concat(col(\"gender\"),lit(\"_\"),\n",
    "                                   col(\"countryCode\"),lit(\"_\"),\n",
    "                                   expr(\"substring(civilityTitle_clean,1,3)\"),lit(\"_\"),\n",
    "                                   col(\"language_full\")))\n",
    "\n",
    "\n",
    "user_df = user_df.withColumn(\"flag_long_title\",length(col(\"civilityTitle\"))>10)\n",
    "\n",
    "\n",
    "#casting data types\n",
    "\n",
    "user_df = user_df.withColumn(\"hasAnyApp\",col(\"hasAnyApp\").cast(\"boolean\"))\n",
    "user_df = user_df.withColumn(\"hasAndroidApp\",col(\"hasAndroidApp\").cast(\"boolean\"))\n",
    "user_df = user_df.withColumn(\"hasIosApp\",col(\"hasIosApp\").cast(\"boolean\"))\n",
    "user_df = user_df.withColumn(\"hasProfilePicture\",col(\"hasProfilePicture\").cast(\"boolean\"))\n",
    "\n",
    "\n",
    "\n",
    "user_df = user_df.withColumn(\"socialNbFollowers\",col(\"socialNbFollowers\").cast(IntegerType()))\n",
    "user_df = user_df.withColumn(\"socialNbFollows\",col(\"socialNbFollows\").cast(IntegerType()))\n",
    "\n",
    "\n",
    "user_df = user_df.withColumn(\"productsPassRate\",col(\"productsPassRate\").cast(DecimalType(10,2)))\n",
    "user_df = user_df.withColumn(\"seniorityAsMonths\",col(\"seniorityAsMonths\").cast(DecimalType(10,2)))\n",
    "user_df = user_df.withColumn(\"seniorityAsYears\",col(\"seniorityAsYears\").cast(DecimalType(10,2)))\n",
    "\n",
    "\n",
    "user_df = user_df.withColumn(\"daysSinceLastLogin\",\n",
    "                             when(col(\"daysSinceLastLogin\").isNotNull(),\n",
    "                                  col(\"daysSinceLastLogin\").cast(IntegerType()))\n",
    "                             .otherwise(0))\n",
    "\n",
    "\n",
    "user_df = user_df.drop_duplicates(['identifierHash'])"
   ]
  },
  {
   "cell_type": "code",
   "execution_count": 0,
   "metadata": {
    "application/vnd.databricks.v1+cell": {
     "cellMetadata": {
      "byteLimit": 2048000,
      "rowLimit": 10000
     },
     "inputWidgets": {},
     "nuid": "505934b6-2b68-4e15-868b-c9e7fcc7471b",
     "showTitle": false,
     "title": ""
    }
   },
   "outputs": [],
   "source": [
    "#Only for first run\n",
    "##user_df.write.format(\"delta\").mode(\"overwrite\").save(\"/mnt/delta/tables/ecom2/silver/users\")"
   ]
  },
  {
   "cell_type": "code",
   "execution_count": 0,
   "metadata": {
    "application/vnd.databricks.v1+cell": {
     "cellMetadata": {
      "byteLimit": 2048000,
      "rowLimit": 10000
     },
     "inputWidgets": {},
     "nuid": "f71d8ff4-bec2-4914-a1e1-706c8b1a2f2b",
     "showTitle": false,
     "title": ""
    }
   },
   "outputs": [],
   "source": [
    "#Defining instances and dataframes for incremental loading of target table\n",
    "user_silver_df = spark.read.format(\"delta\").load(users_silver)  #target delta table\n",
    "target_table = DeltaTable.forPath(spark, users_silver)   #target delta table instance for merge operations"
   ]
  },
  {
   "cell_type": "code",
   "execution_count": 0,
   "metadata": {
    "application/vnd.databricks.v1+cell": {
     "cellMetadata": {
      "byteLimit": 2048000,
      "rowLimit": 10000
     },
     "inputWidgets": {},
     "nuid": "e7cbb5ea-09d4-420f-b518-874ae634c1cc",
     "showTitle": false,
     "title": ""
    }
   },
   "outputs": [],
   "source": [
    "target_table.alias(\"target\").merge(\n",
    "  user_df.alias(\"source\"),\n",
    "  \"target.identifierHash = source.identifierHash\") \\\n",
    ".whenMatchedUpdate(\n",
    "  condition = \"target.daysSinceLastLogin <> source.daysSinceLastLogin\",\n",
    "  set = {                                      # Set current to false and endDate to source's effective date.\n",
    "    \"daysSinceLastLogin\": \"source.daysSinceLastLogin\"\n",
    "  }     \n",
    ").whenNotMatchedInsertAll(\n",
    ").execute()"
   ]
  },
  {
   "cell_type": "code",
   "execution_count": 0,
   "metadata": {
    "application/vnd.databricks.v1+cell": {
     "cellMetadata": {},
     "inputWidgets": {},
     "nuid": "97512d3e-3254-4ffa-b058-d12e277d54b4",
     "showTitle": false,
     "title": ""
    }
   },
   "outputs": [],
   "source": []
  }
 ],
 "metadata": {
  "application/vnd.databricks.v1+notebook": {
   "dashboards": [],
   "environmentMetadata": {
    "base_environment": "",
    "client": "1"
   },
   "language": "python",
   "notebookMetadata": {
    "pythonIndentUnit": 4
   },
   "notebookName": "User_SilverLayer",
   "widgets": {}
  }
 },
 "nbformat": 4,
 "nbformat_minor": 0
}
