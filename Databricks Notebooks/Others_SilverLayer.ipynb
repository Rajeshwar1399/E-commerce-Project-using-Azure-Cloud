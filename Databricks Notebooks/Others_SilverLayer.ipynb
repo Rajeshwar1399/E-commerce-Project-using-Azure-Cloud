{
 "cells": [
  {
   "cell_type": "code",
   "execution_count": 0,
   "metadata": {
    "application/vnd.databricks.v1+cell": {
     "cellMetadata": {
      "byteLimit": 2048000,
      "rowLimit": 10000
     },
     "inputWidgets": {},
     "nuid": "0bacfce8-cfe5-4a98-b150-7968f90041d9",
     "showTitle": false,
     "title": ""
    }
   },
   "outputs": [],
   "source": [
    "from pyspark.sql import SparkSession\n",
    "from pyspark.sql.functions import *\n",
    "from pyspark.sql.types import *"
   ]
  },
  {
   "cell_type": "code",
   "execution_count": 0,
   "metadata": {
    "application/vnd.databricks.v1+cell": {
     "cellMetadata": {
      "byteLimit": 2048000,
      "rowLimit": 10000
     },
     "inputWidgets": {},
     "nuid": "58944098-f480-4fa9-b2b6-3644fadf9cab",
     "showTitle": false,
     "title": ""
    }
   },
   "outputs": [],
   "source": [
    "spark = SparkSession.builder.appName(\"Ecomdatapipeline\").getOrCreate()"
   ]
  },
  {
   "cell_type": "code",
   "execution_count": 0,
   "metadata": {
    "application/vnd.databricks.v1+cell": {
     "cellMetadata": {
      "byteLimit": 2048000,
      "rowLimit": 10000
     },
     "inputWidgets": {},
     "nuid": "d87c12e6-9ba4-4c6b-943a-6efd1c6d11b3",
     "showTitle": false,
     "title": ""
    }
   },
   "outputs": [],
   "source": [
    "#Reading Files from bronze layer\n",
    "country_bronze = \"/mnt/delta/tables/ecom2/bronze/country\"\n",
    "seller_bronze = \"/mnt/delta/tables/ecom2/bronze/sellers\"\n",
    "buyers_bronze = \"/mnt/delta/tables/ecom2/bronze/buyers\"\n"
   ]
  },
  {
   "cell_type": "code",
   "execution_count": 0,
   "metadata": {
    "application/vnd.databricks.v1+cell": {
     "cellMetadata": {
      "byteLimit": 2048000,
      "rowLimit": 10000
     },
     "inputWidgets": {},
     "nuid": "7c8f7b8b-b722-4992-8c84-82e0ad311a64",
     "showTitle": false,
     "title": ""
    }
   },
   "outputs": [],
   "source": [
    "buyers_df = spark.read.format(\"delta\").load(buyers_bronze)"
   ]
  },
  {
   "cell_type": "code",
   "execution_count": 0,
   "metadata": {
    "application/vnd.databricks.v1+cell": {
     "cellMetadata": {
      "byteLimit": 2048000,
      "rowLimit": 10000
     },
     "inputWidgets": {},
     "nuid": "a30e3f49-c92d-4921-ae5e-36351538b793",
     "showTitle": false,
     "title": ""
    }
   },
   "outputs": [],
   "source": [
    "#Casting integer columns\n",
    "integer_columns = [\n",
    "    'buyers','topbuyers','femalebuyers','malebuyers',\n",
    "    'topfemalebuyers','topmalebuyers','totalproductsbought',\n",
    "    'totalproductswished','totalproductsliked','toptotalproductsbought',\n",
    "    'toptotalproductswished','toptotalproductsliked'\n",
    "]\n",
    "\n",
    "for column_name in integer_columns:\n",
    "    buyers_df = buyers_df.withColumn(column_name,col(column_name).cast(IntegerType()))"
   ]
  },
  {
   "cell_type": "code",
   "execution_count": 0,
   "metadata": {
    "application/vnd.databricks.v1+cell": {
     "cellMetadata": {
      "byteLimit": 2048000,
      "rowLimit": 10000
     },
     "inputWidgets": {},
     "nuid": "b10fd488-e35b-4179-9991-2a6c3450526a",
     "showTitle": false,
     "title": ""
    }
   },
   "outputs": [],
   "source": [
    "#Casting decimal columns\n",
    "\n",
    "decimal_columns = [\n",
    "    'topbuyerratio','femalebuyersratio','topfemalebuyersratio',\n",
    "    'boughtperwishlistratio','boughtperlikeratio','topboughtperwishlistratio',\n",
    "    'topboughtperlikeratio','meanproductsbought','meanproductswished',\n",
    "    'meanproductsliked','topmeanproductsbought','topmeanproductswished',\n",
    "    'topmeanproductsliked','meanofflinedays','topmeanofflinedays',\n",
    "    'meanfollowers','meanfollowing','topmeanfollowers','topmeanfollowing'\n",
    "]\n",
    "\n",
    "\n",
    "for column_name in decimal_columns:\n",
    "    buyers_df = buyers_df.withColumn(column_name,col(column_name).cast(DecimalType(10,2)))"
   ]
  },
  {
   "cell_type": "code",
   "execution_count": 0,
   "metadata": {
    "application/vnd.databricks.v1+cell": {
     "cellMetadata": {
      "byteLimit": 2048000,
      "rowLimit": 10000
     },
     "inputWidgets": {},
     "nuid": "cfc11f6b-d3f7-4964-82a6-242361138df5",
     "showTitle": false,
     "title": ""
    }
   },
   "outputs": [],
   "source": [
    "#Normalize country names\n",
    "buyers_df = buyers_df.withColumn(\"country\",initcap(col(\"country\")))\n",
    "\n",
    "\n",
    "for col_name in integer_columns:\n",
    "    buyers_df = buyers_df.fillna({col_name:0})\n",
    "\n",
    "\n",
    "#Calculate the ratio of female to male buyers\n",
    "buyers_df = buyers_df.withColumn(\"female_to_male_ratio\",\n",
    "                                 round(col(\"femalebuyers\")/(col(\"malebuyers\")+1),2))\n",
    "\n",
    "#Determine the market potential by comparing wishlist and purchases\n",
    "\n",
    "buyers_df = buyers_df.withColumn(\"wishlist_to_purchase_ratio\",\n",
    "                                 round(col(\"totalproductswished\")/(col(\"totalproductsbought\")+1),2))\n",
    "\n",
    "#Tag countries with a high engagement ratio\n",
    "high_engagement_threshold = 0.5\n",
    "\n",
    "buyers_df = buyers_df.withColumn(\"high_engagement\",\n",
    "                                 when(col(\"boughtperwishlistratio\")>high_engagement_threshold,True)\n",
    "                                 .otherwise(False))\n",
    "\n",
    "#Flag markets with increasing female buyer participation\n",
    "buyers_df  = buyers_df.withColumn(\"growing_female_market\",\n",
    "                                  when(col(\"femalebuyersratio\")>col(\"topfemalebuyersratio\"),True)\n",
    "                                  .otherwise(False))\n",
    "\n",
    "\n",
    "                                  "
   ]
  },
  {
   "cell_type": "code",
   "execution_count": 0,
   "metadata": {
    "application/vnd.databricks.v1+cell": {
     "cellMetadata": {
      "byteLimit": 2048000,
      "rowLimit": 10000
     },
     "inputWidgets": {},
     "nuid": "aef91db0-2a44-4c44-874f-ea99a0a795db",
     "showTitle": false,
     "title": ""
    }
   },
   "outputs": [],
   "source": [
    "buyers_df.write.format(\"delta\").mode(\"overwrite\").option(\"mergeSchema\", \"true\").save(\"/mnt/delta/tables/ecom2/silver/buyers\")"
   ]
  },
  {
   "cell_type": "code",
   "execution_count": 0,
   "metadata": {
    "application/vnd.databricks.v1+cell": {
     "cellMetadata": {
      "byteLimit": 2048000,
      "rowLimit": 10000
     },
     "inputWidgets": {},
     "nuid": "5117cb01-c55a-401a-805f-073bb4d6e9cc",
     "showTitle": false,
     "title": ""
    }
   },
   "outputs": [],
   "source": [
    "sellers_df = spark.read.format(\"delta\").load(seller_bronze)"
   ]
  },
  {
   "cell_type": "code",
   "execution_count": 0,
   "metadata": {
    "application/vnd.databricks.v1+cell": {
     "cellMetadata": {
      "byteLimit": 2048000,
      "rowLimit": 10000
     },
     "inputWidgets": {},
     "nuid": "f06cb3ee-158e-47ac-8017-5d3654bad596",
     "showTitle": false,
     "title": ""
    }
   },
   "outputs": [],
   "source": [
    "#Another way to cast column data types\n",
    "\n",
    "sellers_df = sellers_df\\\n",
    "    .withColumn(\"nbsellers\",col(\"nbsellers\").cast(IntegerType()))\\\n",
    "    .withColumn(\"meanproductssold\",col(\"meanproductssold\").cast(DecimalType(10,2)))\\\n",
    "    .withColumn(\"meanproductslisted\",col(\"meanproductslisted\").cast(DecimalType(10,2)))\\\n",
    "    .withColumn(\"meansellerpassrate\",col(\"meansellerpassrate\").cast(DecimalType(10,2)))\\\n",
    "    .withColumn(\"totalproductssold\",col(\"totalproductssold\").cast(IntegerType()))\\\n",
    "    .withColumn(\"totalproductslisted\",col(\"totalproductslisted\").cast(IntegerType()))\\\n",
    "    .withColumn(\"meanproductsbought\",col(\"meanproductsbought\").cast(DecimalType(10,2)))\\\n",
    "    .withColumn(\"meanproductswished\",col(\"meanproductswished\").cast(DecimalType(10,2)))\\\n",
    "    .withColumn(\"meanproductsliked\",col(\"meanproductsliked\").cast(DecimalType(10,2)))\\\n",
    "    .withColumn(\"totalbought\",col(\"totalbought\").cast(IntegerType()))\\\n",
    "    .withColumn(\"totalwished\",col(\"totalwished\").cast(IntegerType()))\\\n",
    "    .withColumn(\"totalproductsliked\",col(\"totalproductsliked\").cast(IntegerType()))\\\n",
    "    .withColumn(\"meanfollowers\",col(\"meanfollowers\").cast(DecimalType(10,2)))\\\n",
    "    .withColumn(\"meanfollows\",col(\"meanfollows\").cast(DecimalType(10,2)))\\\n",
    "    .withColumn(\"percentofappusers\",col(\"percentofappusers\").cast(DecimalType(10,2)))\\\n",
    "    .withColumn(\"percentofiosusers\",col(\"percentofiosusers\").cast(DecimalType(10,2)))\\\n",
    "    .withColumn(\"meanseniority\",col(\"meanseniority\").cast(DecimalType(10,2)))"
   ]
  },
  {
   "cell_type": "code",
   "execution_count": 0,
   "metadata": {
    "application/vnd.databricks.v1+cell": {
     "cellMetadata": {
      "byteLimit": 2048000,
      "rowLimit": 10000
     },
     "inputWidgets": {},
     "nuid": "e6bcac90-aa67-4eaa-8105-4dec2acad00d",
     "showTitle": false,
     "title": ""
    }
   },
   "outputs": [],
   "source": [
    "#Normalize country names and gender values\n",
    "\n",
    "sellers_df = sellers_df.withColumn(\"country\",initcap(col(\"country\")))\\\n",
    "                       .withColumn(\"sex\",upper(col(\"sex\")))\n",
    "\n",
    "\n",
    "\n",
    "#Add a column to categorize the number of sellers\n",
    "\n",
    "sellers_df = sellers_df.withColumn(\"seller_size_category\",\n",
    "                                   when(col(\"nbsellers\") < 500,\"Small\")\\\n",
    "                                   .when((col(\"nbsellers\")>=500) & (col(\"nbsellers\")<2000),\"Medium\")\\\n",
    "                                   .otherwise(\"Large\"))\n",
    "\n",
    "# Calculate the mean products listed per seller as an indicator of seller activity\n",
    "sellers_df = sellers_df.withColumn(\"mean_products_listed_per_seller\",\n",
    "                                   round(col(\"totalproductslisted\")/col(\"nbsellers\"),2))\n",
    "\n",
    "\n",
    "# Identify markets with high seller pass rate\n",
    "sellers_df = sellers_df.withColumn(\"high_seller_pass_rate\",\n",
    "                                when(col(\"meansellerpassrate\")>0.75,\"High\")\\\n",
    "                                .otherwise(\"Normal\"))\n",
    "\n",
    "mean_pass_rate = sellers_df.select(round(avg(\"meansellerpassrate\"),2).alias(\"avg_pass_rate\")).collect()[0][\"avg_pass_rate\"]\n",
    "\n",
    "sellers_df = sellers_df.withColumn(\"meansellerpassrate\",\n",
    "                                   when(col(\"meansellerpassrate\").isNull(),mean_pass_rate)\n",
    "                                   .otherwise(col(\"meansellerpassrate\")))"
   ]
  },
  {
   "cell_type": "code",
   "execution_count": 0,
   "metadata": {
    "application/vnd.databricks.v1+cell": {
     "cellMetadata": {
      "byteLimit": 2048000,
      "rowLimit": 10000
     },
     "inputWidgets": {},
     "nuid": "97d7b5f6-24ab-4b80-8165-816f18c41264",
     "showTitle": false,
     "title": ""
    }
   },
   "outputs": [],
   "source": [
    "sellers_df.write.format(\"delta\").mode(\"overwrite\").option(\"mergeSchema\", \"true\").save(\"/mnt/delta/tables/ecom2/silver/sellers\")"
   ]
  },
  {
   "cell_type": "code",
   "execution_count": 0,
   "metadata": {
    "application/vnd.databricks.v1+cell": {
     "cellMetadata": {
      "byteLimit": 2048000,
      "rowLimit": 10000
     },
     "inputWidgets": {},
     "nuid": "3d11cd88-b234-4b50-8b06-274ecfc36411",
     "showTitle": false,
     "title": ""
    }
   },
   "outputs": [],
   "source": [
    "country_df = spark.read.format(\"delta\").load(country_bronze)"
   ]
  },
  {
   "cell_type": "code",
   "execution_count": 0,
   "metadata": {
    "application/vnd.databricks.v1+cell": {
     "cellMetadata": {
      "byteLimit": 2048000,
      "rowLimit": 10000
     },
     "inputWidgets": {},
     "nuid": "cbe11c88-eea0-4c70-8252-2f9f3ab8d6ba",
     "showTitle": false,
     "title": ""
    }
   },
   "outputs": [],
   "source": [
    "country_df = country_df\\\n",
    "    .withColumn(\"sellers\", col(\"sellers\").cast(IntegerType())) \\\n",
    "    .withColumn(\"topsellers\", col(\"topsellers\").cast(IntegerType())) \\\n",
    "    .withColumn(\"topsellerratio\", col(\"topsellerratio\").cast(DecimalType(10, 2))) \\\n",
    "    .withColumn(\"femalesellersratio\", col(\"femalesellersratio\").cast(DecimalType(10, 2))) \\\n",
    "    .withColumn(\"topfemalesellersratio\", col(\"topfemalesellersratio\").cast(DecimalType(10, 2))) \\\n",
    "    .withColumn(\"femalesellers\", col(\"femalesellers\").cast(IntegerType())) \\\n",
    "    .withColumn(\"malesellers\", col(\"malesellers\").cast(IntegerType())) \\\n",
    "    .withColumn(\"topfemalesellers\", col(\"topfemalesellers\").cast(IntegerType())) \\\n",
    "    .withColumn(\"topmalesellers\", col(\"topmalesellers\").cast(IntegerType())) \\\n",
    "    .withColumn(\"countrysoldratio\", col(\"countrysoldratio\").cast(DecimalType(10, 2))) \\\n",
    "    .withColumn(\"bestsoldratio\", col(\"bestsoldratio\").cast(DecimalType(10, 2))) \\\n",
    "    .withColumn(\"toptotalproductssold\", col(\"toptotalproductssold\").cast(IntegerType())) \\\n",
    "    .withColumn(\"totalproductssold\", col(\"totalproductssold\").cast(IntegerType())) \\\n",
    "    .withColumn(\"toptotalproductslisted\", col(\"toptotalproductslisted\").cast(IntegerType())) \\\n",
    "    .withColumn(\"totalproductslisted\", col(\"totalproductslisted\").cast(IntegerType())) \\\n",
    "    .withColumn(\"topmeanproductssold\", col(\"topmeanproductssold\").cast(DecimalType(10, 2))) \\\n",
    "    .withColumn(\"topmeanproductslisted\", col(\"topmeanproductslisted\").cast(DecimalType(10, 2))) \\\n",
    "    .withColumn(\"meanproductssold\", col(\"meanproductssold\").cast(DecimalType(10, 2))) \\\n",
    "    .withColumn(\"meanproductslisted\", col(\"meanproductslisted\").cast(DecimalType(10, 2))) \\\n",
    "    .withColumn(\"meanofflinedays\", col(\"meanofflinedays\").cast(DecimalType(10, 2))) \\\n",
    "    .withColumn(\"topmeanofflinedays\", col(\"topmeanofflinedays\").cast(DecimalType(10, 2))) \\\n",
    "    .withColumn(\"meanfollowers\", col(\"meanfollowers\").cast(DecimalType(10, 2))) \\\n",
    "    .withColumn(\"meanfollowing\", col(\"meanfollowing\").cast(DecimalType(10, 2))) \\\n",
    "    .withColumn(\"topmeanfollowers\", col(\"topmeanfollowers\").cast(DecimalType(10, 2))) \\\n",
    "    .withColumn(\"topmeanfollowing\", col(\"topmeanfollowing\").cast(DecimalType(10, 2)))\n",
    "\n",
    "        "
   ]
  },
  {
   "cell_type": "code",
   "execution_count": 0,
   "metadata": {
    "application/vnd.databricks.v1+cell": {
     "cellMetadata": {
      "byteLimit": 2048000,
      "rowLimit": 10000
     },
     "inputWidgets": {},
     "nuid": "d468c789-fd87-4393-83a2-6f38e0a00452",
     "showTitle": false,
     "title": ""
    }
   },
   "outputs": [],
   "source": [
    "#Calculate the ratio of top sellers to total sellers\n",
    "\n",
    "country_df = country_df.withColumn(\"top_seller_ratio\",\n",
    "                                   round(col(\"topsellers\")/col(\"sellers\"),2))\n",
    "\n",
    "\n",
    "# Countries with a high ratio of female sellers\n",
    "country_df = country_df.withColumn(\"high_female_seller_ratio\",\n",
    "                                   when(col(\"femalesellersratio\")>0.5,True).otherwise(False))\n",
    "\n",
    "\n",
    "# Adding a performance indicator based on the sold/listed ratio\n",
    "country_df = country_df.withColumn(\"performance_indicator\",\n",
    "                                   round(col(\"toptotalproductssold\")/(col(\"toptotalproductslisted\")+1),2))\n",
    "\n",
    "#Flag countries with exceptionally high performance\n",
    "performance_threshold = 0.8\n",
    "\n",
    "country_df = country_df.withColumn(\"high_performance\",\n",
    "                                   when(col(\"performance_indicator\")>performance_threshold,True).otherwise(False))\n",
    "\n",
    "\n",
    "country_df = country_df.withColumn(\"activity_level\",\n",
    "                                   when(col(\"meanofflinedays\")<30,\"Highly active\")\n",
    "                                   .when((col(\"meanofflinedays\")>=30) & (col(\"meanofflinedays\")<60),\"Moderately Active\")\n",
    "                                   .otherwise(\"Low Activity\"))\n",
    "\n"
   ]
  },
  {
   "cell_type": "code",
   "execution_count": 0,
   "metadata": {
    "application/vnd.databricks.v1+cell": {
     "cellMetadata": {
      "byteLimit": 2048000,
      "rowLimit": 10000
     },
     "inputWidgets": {},
     "nuid": "3f339722-e641-4cc6-8f40-19f77cccbb40",
     "showTitle": false,
     "title": ""
    }
   },
   "outputs": [],
   "source": [
    "country_df.write.format(\"delta\").mode(\"overwrite\").option(\"mergeSchema\", \"true\").save(\"/mnt/delta/tables/ecom2/silver/country\")"
   ]
  },
  {
   "cell_type": "code",
   "execution_count": 0,
   "metadata": {
    "application/vnd.databricks.v1+cell": {
     "cellMetadata": {},
     "inputWidgets": {},
     "nuid": "c3785c58-13c2-4e2a-86a6-af01a5262b07",
     "showTitle": false,
     "title": ""
    }
   },
   "outputs": [],
   "source": []
  }
 ],
 "metadata": {
  "application/vnd.databricks.v1+notebook": {
   "dashboards": [],
   "environmentMetadata": {
    "base_environment": "",
    "client": "1"
   },
   "language": "python",
   "notebookMetadata": {
    "pythonIndentUnit": 4
   },
   "notebookName": "Others_SilverLayer",
   "widgets": {}
  }
 },
 "nbformat": 4,
 "nbformat_minor": 0
}
