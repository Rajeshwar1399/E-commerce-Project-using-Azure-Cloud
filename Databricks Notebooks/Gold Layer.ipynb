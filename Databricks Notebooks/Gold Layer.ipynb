{
 "cells": [
  {
   "cell_type": "code",
   "execution_count": 0,
   "metadata": {
    "application/vnd.databricks.v1+cell": {
     "cellMetadata": {
      "byteLimit": 2048000,
      "rowLimit": 10000
     },
     "inputWidgets": {},
     "nuid": "c735ca4c-0bd9-4c69-9d71-9ef0150068a3",
     "showTitle": false,
     "title": ""
    }
   },
   "outputs": [],
   "source": [
    "from pyspark.sql import SparkSession\n",
    "from pyspark.sql.functions import *"
   ]
  },
  {
   "cell_type": "code",
   "execution_count": 0,
   "metadata": {
    "application/vnd.databricks.v1+cell": {
     "cellMetadata": {
      "byteLimit": 2048000,
      "rowLimit": 10000
     },
     "inputWidgets": {},
     "nuid": "4ff960bb-4afd-4b28-871e-356bdeb31940",
     "showTitle": false,
     "title": ""
    }
   },
   "outputs": [],
   "source": [
    "spark = SparkSession.builder.appName(\"Ecomdatapipeline\").getOrCreate()\n",
    "\n",
    "\n",
    "#Read the necessary Silver Tables\n",
    "\n",
    "silver_sellers = spark.read.format(\"delta\").load(\"/mnt/delta/tables/ecom2/silver/sellers\")\n",
    "silver_country = spark.read.format(\"delta\").load(\"/mnt/delta/tables/ecom2/silver/country\")\n",
    "silver_users = spark.read.format(\"delta\").load(\"/mnt/delta/tables/ecom2/silver/users\")\n",
    "silver_buyers = spark.read.format(\"delta\").load(\"/mnt/delta/tables/ecom2/silver/buyers\")"
   ]
  },
  {
   "cell_type": "code",
   "execution_count": 0,
   "metadata": {
    "application/vnd.databricks.v1+cell": {
     "cellMetadata": {
      "byteLimit": 2048000,
      "rowLimit": 10000
     },
     "inputWidgets": {},
     "nuid": "4266239b-fa59-4d7f-9662-1123cd2e9733",
     "showTitle": false,
     "title": ""
    }
   },
   "outputs": [],
   "source": [
    "# Performing Join operations\n",
    "\n",
    "comprehensive_user_table = silver_users\\\n",
    "    .join(silver_country,silver_users.country == silver_country.country,\"outer\")\\\n",
    "    .join(silver_buyers,silver_users.country == silver_buyers.country,\"outer\")\\\n",
    "    .join(silver_sellers,silver_users.country == silver_sellers.country,\"outer\")\n",
    "\n",
    "\n"
   ]
  },
  {
   "cell_type": "code",
   "execution_count": 0,
   "metadata": {
    "application/vnd.databricks.v1+cell": {
     "cellMetadata": {
      "byteLimit": 2048000,
      "rowLimit": 10000
     },
     "inputWidgets": {},
     "nuid": "03970e72-eac1-40b0-9ff9-fe4f73716a22",
     "showTitle": false,
     "title": ""
    }
   },
   "outputs": [],
   "source": [
    "#Select and alias columns from each dataframe to ensure uniqueness\n",
    "\n",
    "comprehensive_user_table = comprehensive_user_table.select(\n",
    "    silver_users[\"country\"].alias(\"Country\"),\n",
    "    silver_users[\"productsSold\"].alias(\"Users_productsSold\"),\n",
    "    silver_users[\"productsWished\"].alias(\"Users_productsWished\"),\n",
    "    silver_users[\"account_age_years\"].alias(\"Users_account_age_years\"),\n",
    "    silver_users[\"account_age_group\"].alias(\"Users_account_age_group\"),\n",
    "    silver_users[\"hasAnyApp\"].alias(\"Users_hasAnyApp\"),\n",
    "    silver_users[\"socialNbFollowers\"].alias(\"Users_socialNbFollowers\"),\n",
    "    silver_users[\"flag_long_title\"].alias(\"Users_flag_long_title\"),\n",
    "\n",
    "    silver_country[\"sellers\"].alias(\"Country_Sellers\"),\n",
    "    silver_country[\"topsellers\"].alias(\"Country_topsellers\"),\n",
    "    silver_country[\"femalesellers\"].alias(\"Country_femalesellers\"),\n",
    "    silver_country[\"malesellers\"].alias(\"Country_malesellers\"),\n",
    "    silver_country[\"topfemalesellers\"].alias(\"Country_topfemalesellers\"),\n",
    "    silver_country[\"topmalesellers\"].alias(\"Country_topmalesellers\"),\n",
    "\n",
    "\n",
    "\n",
    "    silver_buyers[\"buyers\"].alias(\"Buyers_Total\"),\n",
    "    silver_buyers[\"topbuyers\"].alias(\"Buyers_Top\"),\n",
    "    silver_buyers[\"femalebuyers\"].alias(\"Buyers_Female\"),\n",
    "    silver_buyers[\"malebuyers\"].alias(\"Buyers_Male\"),\n",
    "    silver_buyers[\"topfemalebuyers\"].alias(\"Buyers_TopFemale\"),\n",
    "    silver_buyers[\"topmalebuyers\"].alias(\"Buyers_TopMale\"),\n",
    "\n",
    "\n",
    "    silver_sellers[\"nbsellers\"].alias(\"Sellers_Total\"),\n",
    "    silver_sellers[\"sex\"].alias(\"Sellers_Sex\"),\n",
    "    silver_sellers[\"meanproductssold\"].alias(\"Sellers_meanproductssold\"),\n",
    "    silver_sellers[\"meanproductslisted\"].alias(\"Sellers_meanproductslisted\")\n",
    "\n",
    ")"
   ]
  },
  {
   "cell_type": "code",
   "execution_count": 0,
   "metadata": {
    "application/vnd.databricks.v1+cell": {
     "cellMetadata": {
      "byteLimit": 2048000,
      "rowLimit": 10000
     },
     "inputWidgets": {},
     "nuid": "579b530f-2dd5-49e6-8429-082d787c8f0e",
     "showTitle": false,
     "title": ""
    }
   },
   "outputs": [],
   "source": [
    "comprehensive_user_table.write.format(\"delta\").mode(\"overwrite\").option(\"mergeSchema\", \"true\").save(\"/mnt/delta/tables/ecom2/gold/ecom_one_big_table\")"
   ]
  },
  {
   "cell_type": "code",
   "execution_count": 0,
   "metadata": {
    "application/vnd.databricks.v1+cell": {
     "cellMetadata": {
      "byteLimit": 2048000,
      "implicitDf": true,
      "rowLimit": 10000
     },
     "inputWidgets": {},
     "nuid": "110aec52-5bed-45a1-9a19-58280c45ebe0",
     "showTitle": false,
     "title": ""
    }
   },
   "outputs": [
    {
     "output_type": "display_data",
     "data": {
      "text/html": [
       "<style scoped>\n",
       "  .table-result-container {\n",
       "    max-height: 300px;\n",
       "    overflow: auto;\n",
       "  }\n",
       "  table, th, td {\n",
       "    border: 1px solid black;\n",
       "    border-collapse: collapse;\n",
       "  }\n",
       "  th, td {\n",
       "    padding: 5px;\n",
       "  }\n",
       "  th {\n",
       "    text-align: left;\n",
       "  }\n",
       "</style><div class='table-result-container'><table class='table-result'><thead style='background-color: white'><tr><th>num_affected_rows</th><th>num_inserted_rows</th></tr></thead><tbody></tbody></table></div>"
      ]
     },
     "metadata": {
      "application/vnd.databricks.v1+output": {
       "addedWidgets": {},
       "aggData": [],
       "aggError": "",
       "aggOverflow": false,
       "aggSchema": [],
       "aggSeriesLimitReached": false,
       "aggType": "",
       "arguments": {},
       "columnCustomDisplayInfos": {},
       "data": [],
       "datasetInfos": [],
       "dbfsResultPath": null,
       "isJsonSchema": true,
       "metadata": {
        "dataframeName": "_sqldf",
        "executionCount": 15
       },
       "overflow": false,
       "plotOptions": {
        "customPlotOptions": {},
        "displayType": "table",
        "pivotAggregation": null,
        "pivotColumns": null,
        "xColumns": null,
        "yColumns": null
       },
       "removedWidgets": [],
       "schema": [
        {
         "metadata": "{}",
         "name": "num_affected_rows",
         "type": "\"long\""
        },
        {
         "metadata": "{}",
         "name": "num_inserted_rows",
         "type": "\"long\""
        }
       ],
       "type": "table"
      }
     },
     "output_type": "display_data"
    }
   ],
   "source": [
    "%sql\n",
    "CREATE OR REPLACE TABLE ecom_one_big_table\n",
    "USING DELTA\n",
    "AS \n",
    "SELECT *\n",
    "from delta.`/mnt/delta/tables/ecom2/gold/ecom_one_big_table`;"
   ]
  },
  {
   "cell_type": "code",
   "execution_count": 0,
   "metadata": {
    "application/vnd.databricks.v1+cell": {
     "cellMetadata": {},
     "inputWidgets": {},
     "nuid": "2200fd93-ef6d-4421-9a59-e0f9f7a66291",
     "showTitle": false,
     "title": ""
    }
   },
   "outputs": [],
   "source": []
  }
 ],
 "metadata": {
  "application/vnd.databricks.v1+notebook": {
   "dashboards": [],
   "environmentMetadata": {
    "base_environment": "",
    "client": "1"
   },
   "language": "python",
   "notebookMetadata": {
    "mostRecentlyExecutedCommandWithImplicitDF": {
     "commandId": 1364357310834326,
     "dataframes": [
      "_sqldf"
     ]
    },
    "pythonIndentUnit": 4
   },
   "notebookName": "Gold Layer",
   "widgets": {}
  }
 },
 "nbformat": 4,
 "nbformat_minor": 0
}
