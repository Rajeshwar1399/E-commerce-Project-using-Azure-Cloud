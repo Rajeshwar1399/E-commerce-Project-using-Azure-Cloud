{
 "cells": [
  {
   "cell_type": "markdown",
   "metadata": {
    "application/vnd.databricks.v1+cell": {
     "cellMetadata": {},
     "inputWidgets": {},
     "nuid": "049daf52-4468-4ad8-8264-f55b54630e1a",
     "showTitle": false,
     "title": ""
    }
   },
   "source": [
    "### This has to be automated to be triggered only when the new data arrives in to_processed folder and after saving to delta the file must be moved to processed folder."
   ]
  },
  {
   "cell_type": "code",
   "execution_count": null,
   "metadata": {
    "application/vnd.databricks.v1+cell": {
     "cellMetadata": {
      "byteLimit": 2048000,
      "rowLimit": 10000
     },
     "inputWidgets": {},
     "nuid": "dc2f4f94-dbcd-435d-9b63-48c5f8287543",
     "showTitle": false,
     "title": ""
    }
   },
   "outputs": [
    {
     "name": "stdout",
     "output_type": "stream",
     "text": [
      "/mnt/ecomproject2 is already mounted.\n"
     ]
    }
   ],
   "source": [
    "configs = {\"fs.azure.account.auth.type\":\"OAuth\",\n",
    "\"fs.azure.account.oauth.provider.type\":\"org.apache.hadoop.fs.azurebfs.oauth2.ClientCredsTokenProvider\",\n",
    "\"fs.azure.account.oauth2.client.id\":\"<client-id>\",\n",
    "\"fs.azure.account.oauth2.client.secret\":'<secret-key>',\n",
    "\"fs.azure.account.oauth2.client.endpoint\":\"https://login.microsoftonline.com/<tenant-id>/oauth2/token\"}\n",
    "\n",
    "\n",
    "mount_name = \"/mnt/ecomproject2\"\n",
    "mounted_paths = [mount.mountPoint for mount in dbutils.fs.mounts()]\n",
    "\n",
    "if mount_name not in mounted_paths:\n",
    "    dbutils.fs.mount(\n",
    "    source = \"abfss://landing-zone-2@ecomadlsbusa.dfs.core.windows.net\",     #container@storageacc\n",
    "    mount_point= mount_name,\n",
    "    extra_configs=configs\n",
    "                )\n",
    "\n",
    "else:\n",
    "    print(f\"{mount_name} is already mounted.\")\n",
    "\n",
    "\n"
   ]
  },
  {
   "cell_type": "code",
   "execution_count": null,
   "metadata": {
    "application/vnd.databricks.v1+cell": {
     "cellMetadata": {
      "byteLimit": 2048000,
      "rowLimit": 10000
     },
     "inputWidgets": {},
     "nuid": "3cfca878-246c-4592-a763-bea8a7e4d996",
     "showTitle": false,
     "title": ""
    }
   },
   "outputs": [],
   "source": [
    "from pyspark.sql import SparkSession\n",
    "from pyspark.sql.functions import *\n",
    "from pyspark.sql.types import *"
   ]
  },
  {
   "cell_type": "code",
   "execution_count": null,
   "metadata": {
    "application/vnd.databricks.v1+cell": {
     "cellMetadata": {
      "byteLimit": 2048000,
      "rowLimit": 10000
     },
     "inputWidgets": {},
     "nuid": "39a0c668-3e68-4887-8407-df15dccf891e",
     "showTitle": false,
     "title": ""
    }
   },
   "outputs": [],
   "source": [
    "spark = SparkSession.builder.appName(\"Ecomdatapipelinechallenge\").getOrCreate()"
   ]
  },
  {
   "cell_type": "code",
   "execution_count": null,
   "metadata": {
    "application/vnd.databricks.v1+cell": {
     "cellMetadata": {
      "byteLimit": 2048000,
      "rowLimit": 10000
     },
     "inputWidgets": {},
     "nuid": "f09b088b-7f8e-426c-92d4-a4eb74f7fc33",
     "showTitle": false,
     "title": ""
    }
   },
   "outputs": [],
   "source": [
    "#Read parquet file\n",
    "user_df = spark.read.format(\"parquet\")\\\n",
    "               .option(\"header\",\"true\")\\\n",
    "               .option(\"inferSchema\",\"true\")\\\n",
    "               .load(\"/mnt/ecomproject2/users-raw-2/to_processed\")"
   ]
  },
  {
   "cell_type": "code",
   "execution_count": null,
   "metadata": {
    "application/vnd.databricks.v1+cell": {
     "cellMetadata": {
      "byteLimit": 2048000,
      "rowLimit": 10000
     },
     "inputWidgets": {},
     "nuid": "6ca7893e-94a2-4ce8-9de2-37e81808caaa",
     "showTitle": false,
     "title": ""
    }
   },
   "outputs": [
    {
     "name": "stdout",
     "output_type": "stream",
     "text": [
      "root\n",
      " |-- identifierHash: string (nullable = true)\n",
      " |-- type: string (nullable = true)\n",
      " |-- country: string (nullable = true)\n",
      " |-- language: string (nullable = true)\n",
      " |-- socialNbFollowers: string (nullable = true)\n",
      " |-- socialNbFollows: string (nullable = true)\n",
      " |-- socialProductsLiked: string (nullable = true)\n",
      " |-- productsListed: string (nullable = true)\n",
      " |-- productsSold: string (nullable = true)\n",
      " |-- productsPassRate: string (nullable = true)\n",
      " |-- productsWished: string (nullable = true)\n",
      " |-- productsBought: string (nullable = true)\n",
      " |-- gender: string (nullable = true)\n",
      " |-- civilityGenderId: string (nullable = true)\n",
      " |-- civilityTitle: string (nullable = true)\n",
      " |-- hasAnyApp: string (nullable = true)\n",
      " |-- hasAndroidApp: string (nullable = true)\n",
      " |-- hasIosApp: string (nullable = true)\n",
      " |-- hasProfilePicture: string (nullable = true)\n",
      " |-- daysSinceLastLogin: string (nullable = true)\n",
      " |-- seniority: string (nullable = true)\n",
      " |-- seniorityAsMonths: string (nullable = true)\n",
      " |-- seniorityAsYears: string (nullable = true)\n",
      " |-- countryCode: string (nullable = true)\n",
      "\n"
     ]
    }
   ],
   "source": [
    "user_df.printSchema()"
   ]
  },
  {
   "cell_type": "code",
   "execution_count": null,
   "metadata": {
    "application/vnd.databricks.v1+cell": {
     "cellMetadata": {
      "byteLimit": 2048000,
      "rowLimit": 10000
     },
     "inputWidgets": {},
     "nuid": "a3caa2ba-0d4a-456f-8e52-a629042208ff",
     "showTitle": false,
     "title": ""
    }
   },
   "outputs": [],
   "source": [
    "user_df = spark.read.format(\"parquet\")\\\n",
    "               .option(\"header\",\"true\")\\\n",
    "               .option(\"inferSchema\",\"true\")\\\n",
    "               .load(\"/mnt/ecomproject2/users-raw-2/to_processed\")"
   ]
  },
  {
   "cell_type": "code",
   "execution_count": null,
   "metadata": {
    "application/vnd.databricks.v1+cell": {
     "cellMetadata": {
      "byteLimit": 2048000,
      "rowLimit": 10000
     },
     "inputWidgets": {},
     "nuid": "9cad27fe-164e-4236-88c4-0ae0a8505e6a",
     "showTitle": false,
     "title": ""
    }
   },
   "outputs": [],
   "source": [
    "user_df.write.format(\"delta\")\\\n",
    "        .mode(\"overwrite\")\\\n",
    "        .option(\"mergeSchema\", \"true\")\\\n",
    "        .save(\"/mnt/delta/tables/ecom2/bronze/users\")"
   ]
  },
  {
   "cell_type": "code",
   "execution_count": null,
   "metadata": {
    "application/vnd.databricks.v1+cell": {
     "cellMetadata": {
      "byteLimit": 2048000,
      "rowLimit": 10000
     },
     "inputWidgets": {},
     "nuid": "f4875739-b80d-48a0-93a0-612a9490441c",
     "showTitle": false,
     "title": ""
    }
   },
   "outputs": [],
   "source": [
    "#Move processed files into processed files folder\n",
    "source_directory      = \"/mnt/ecomproject2/users-raw-2/to_processed/\"\n",
    "destination_directory = \"/mnt/ecomproject2/users-raw-2/processed/\"\n",
    "\n",
    "files = dbutils.fs.ls(source_directory)\n",
    "for file in files:\n",
    "    if file.isFile():\n",
    "        # Construct source and destination paths\n",
    "        source_path = file.path\n",
    "        destination_path = destination_directory + source_path.split(\"/\")[-1]\n",
    "        \n",
    "        # Move the file\n",
    "        dbutils.fs.mv(source_path, destination_path)"
   ]
  },
  {
   "cell_type": "code",
   "execution_count": null,
   "metadata": {
    "application/vnd.databricks.v1+cell": {
     "cellMetadata": {},
     "inputWidgets": {},
     "nuid": "d3699385-f65c-43e0-9623-dfe946df2ea2",
     "showTitle": false,
     "title": ""
    }
   },
   "outputs": [],
   "source": []
  }
 ],
 "metadata": {
  "application/vnd.databricks.v1+notebook": {
   "dashboards": [],
   "environmentMetadata": {
    "base_environment": "",
    "client": "1"
   },
   "language": "python",
   "notebookMetadata": {
    "pythonIndentUnit": 4
   },
   "notebookName": "Users_BronzeLayer",
   "widgets": {}
  },
  "language_info": {
   "name": "python"
  }
 },
 "nbformat": 4,
 "nbformat_minor": 0
}
